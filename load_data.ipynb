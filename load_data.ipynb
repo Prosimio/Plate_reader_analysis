{
 "cells": [
  {
   "cell_type": "code",
   "execution_count": null,
   "metadata": {},
   "outputs": [],
   "source": [
    "# import general packages\n",
    "import numpy as np\n",
    "\n",
    "# import xls manager package manager\n",
    "import openpyxl as opxl\n",
    "\n",
    "#import developed package\n",
    "import platemanage as pmng"
   ]
  },
  {
   "cell_type": "code",
   "execution_count": null,
   "metadata": {},
   "outputs": [],
   "source": [
    "files = ['Placa v2 - 01- python.xlsx', 'Placa v2 - 02- python.xlsx', 'Placa v2 - 03- python.xlsx']"
   ]
  },
  {
   "cell_type": "markdown",
   "metadata": {},
   "source": [
    "The data in the sheets include headers and specials columns as _Time_ and _Temperature_. To split them we have to indicate the position where wells data start."
   ]
  },
  {
   "cell_type": "code",
   "execution_count": null,
   "metadata": {},
   "outputs": [],
   "source": [
    "start_row, start_column = pmng.delimit_data()"
   ]
  },
  {
   "cell_type": "code",
   "execution_count": null,
   "metadata": {},
   "outputs": [],
   "source": [
    "L_start_row, L_start_column = pmng.delimit_label()"
   ]
  },
  {
   "cell_type": "code",
   "execution_count": null,
   "metadata": {},
   "outputs": [],
   "source": [
    "## Indicated by the user:\n",
    "\n",
    "books_folder  = 'Raw_data/'   #folder where databooks are stored\n",
    "datasheet_name_code = '(D)'   #datasheet label code written in the booksheets\n",
    "labelsheet_name_code = '(L)'"
   ]
  },
  {
   "cell_type": "code",
   "execution_count": null,
   "metadata": {},
   "outputs": [],
   "source": [
    "database = {}\n",
    "for file in files:\n",
    "    #load the data \n",
    "    fname = books_folder + file\n",
    "    wb = opxl.load_workbook(filename = fname)\n",
    "    #get the sheet names\n",
    "    sheets = wb.sheetnames\n",
    "\n",
    "    # get values\n",
    "    data_sheets = sheets[1 : 4]\n",
    "    wdata={}\n",
    "    wlabels={}\n",
    "    \n",
    "    for namesheet in sheets:\n",
    "        #find the type of each sheet\n",
    "        pos_D = namesheet.find(str(datasheet_name_code))  # (D) -> DataSheet\n",
    "        pos_L = namesheet.find(str(labelsheet_name_code))  # (L) -> LabelSheet\n",
    "        \n",
    "        dic_nsheet = namesheet[0:namesheet.find('(')]  # eliminate the (D) or (L) from the name\n",
    "        \n",
    "        if pos_D > -1:\n",
    "            \n",
    "            wdata[dic_nsheet] = {} \n",
    "            data, time, header = pmng.get_values(wb[namesheet],int(start_row),int(start_column))\n",
    "            wdata[dic_nsheet]['data'] = data\n",
    "            wdata[dic_nsheet]['time'] = time\n",
    "            wdata[dic_nsheet]['header'] = header\n",
    "\n",
    "    # get values\n",
    "        if pos_L > -1:\n",
    "            wlabels[dic_nsheet] = pmng.get_label_values(wb[namesheet],int(L_start_row),int(L_start_column))\n",
    "\n",
    "\n",
    "    database[file] = {}\n",
    "    database[file]['data_sheets'] = wdata\n",
    "    database[file]['label_sheets'] = wlabels\n",
    "    print('\\n\"'+file+'\"')\n",
    "    print(sheets)\n",
    "    print('\\n data sheets:')\n",
    "    print(str(wdata.keys()) + '\\n')\n",
    "    print(' label sheets:')\n",
    "    print(str(wlabels.keys()) + '\\n')"
   ]
  },
  {
   "cell_type": "code",
   "execution_count": null,
   "metadata": {},
   "outputs": [],
   "source": [
    "#this line is and example of usage... just to check and explore\n",
    "database[files[0]]['label_sheets']['Media']"
   ]
  },
  {
   "cell_type": "code",
   "execution_count": null,
   "metadata": {},
   "outputs": [],
   "source": [
    "#Guarda objeto database en carpeta data, con nombre rdatabase\n",
    "pmng.save_obj(database, 'rdatabase', 'data')"
   ]
  },
  {
   "cell_type": "code",
   "execution_count": null,
   "metadata": {},
   "outputs": [],
   "source": []
  }
 ],
 "metadata": {
  "kernelspec": {
   "display_name": "Python 3",
   "language": "python",
   "name": "python3"
  },
  "language_info": {
   "codemirror_mode": {
    "name": "ipython",
    "version": 3
   },
   "file_extension": ".py",
   "mimetype": "text/x-python",
   "name": "python",
   "nbconvert_exporter": "python",
   "pygments_lexer": "ipython3",
   "version": "3.6.4"
  }
 },
 "nbformat": 4,
 "nbformat_minor": 2
}
