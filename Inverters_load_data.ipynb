{
 "cells": [
  {
   "cell_type": "code",
   "execution_count": 2,
   "metadata": {
    "collapsed": true
   },
   "outputs": [],
   "source": [
    "# import general packages\n",
    "import numpy as np\n",
    "\n",
    "# import xls manager package manager\n",
    "import openpyxl as opxl\n",
    "\n",
    "#import developed package\n",
    "import platemanage as pmng"
   ]
  },
  {
   "cell_type": "code",
   "execution_count": 4,
   "metadata": {
    "collapsed": true
   },
   "outputs": [],
   "source": [
    "files = ['RV1','RV2', 'RV3', 'RV4', 'RV5', 'RV6', 'RV7', 'RV8']"
   ]
  },
  {
   "cell_type": "code",
   "execution_count": 5,
   "metadata": {
    "collapsed": false
   },
   "outputs": [
    {
     "name": "stdout",
     "output_type": "stream",
     "text": [
      "['Plate 1 - Sheet1', 'OD600', 'CFP', 'YFP', 'Strains', 'IPTG', 'Media']\n"
     ]
    }
   ],
   "source": []
  },
  {
   "cell_type": "markdown",
   "metadata": {},
   "source": [
    "The data in the sheets include headers and specials columns as _Time_ and _Temperature_. To split them we have to indicate the position where wells data start."
   ]
  },
  {
   "cell_type": "code",
   "execution_count": 6,
   "metadata": {
    "collapsed": false
   },
   "outputs": [
    {
     "name": "stdout",
     "output_type": "stream",
     "text": [
      "Enter the data starting row number (e.g. 2) 2\n",
      "data start in row 2\n",
      "Enter the data starting column number (e.g. 3)3\n",
      "data start in column 3\n"
     ]
    }
   ],
   "source": [
    "start_row, start_column = pmng.delimit_data()"
   ]
  },
  {
   "cell_type": "code",
   "execution_count": 11,
   "metadata": {
    "collapsed": false
   },
   "outputs": [
    {
     "name": "stdout",
     "output_type": "stream",
     "text": [
      "Enter the label starting row number (e.g. 2) 2\n",
      "data start in row 2\n",
      "Enter the label starting column number (e.g. 2) 2\n",
      "data start in column 2\n"
     ]
    }
   ],
   "source": [
    "L_start_row, L_start_column = pmng.delimit_label()"
   ]
  },
  {
   "cell_type": "code",
   "execution_count": 19,
   "metadata": {
    "collapsed": false
   },
   "outputs": [
    {
     "name": "stdout",
     "output_type": "stream",
     "text": [
      "['Plate 1 - Sheet1', 'OD600', 'CFP', 'YFP', 'Strains', 'IPTG', 'Media']\n",
      "['Strains', 'IPTG', 'Media']\n",
      "['Plate 1 - Sheet1', 'OD600', 'CFP', 'YFP', 'Strains', 'IPTG', 'Media']\n",
      "['Strains', 'IPTG', 'Media']\n",
      "['Plate 1 - Sheet1', 'OD600', 'CFP', 'YFP', 'Strains', 'IPTG', 'Media']\n",
      "['Strains', 'IPTG', 'Media']\n",
      "['Plate 1 - Sheet1', 'OD600', 'CFP', 'YFP', 'Strains', 'IPTG', 'Media']\n",
      "['Strains', 'IPTG', 'Media']\n",
      "['Plate 1 - Sheet1', 'OD600', 'CFP', 'YFP', 'Strains', 'IPTG', 'Media']\n",
      "['Strains', 'IPTG', 'Media']\n",
      "['Plate 1 - Sheet1', 'OD600', 'CFP', 'YFP', 'Strains', 'IPTG', 'Media']\n",
      "['Strains', 'IPTG', 'Media']\n",
      "['Plate 1 - Sheet1', 'OD600', 'CFP', 'YFP', 'Strains', 'IPTG', 'Media']\n",
      "['Strains', 'IPTG', 'Media']\n",
      "['Plate 1 - Sheet1', 'OD600', 'CFP', 'YFP', 'Strains', 'IPTG', 'Media']\n",
      "['Strains', 'IPTG', 'Media']\n"
     ]
    }
   ],
   "source": [
    "database = {}\n",
    "for file in files:\n",
    "    #load the data \n",
    "    fname = 'Raw_data/'+ file +' - python.xlsx'\n",
    "    wb = opxl.load_workbook(filename = fname)\n",
    "    #get the sheet names\n",
    "    sheets = wb.sheetnames\n",
    "    print(sheets)\n",
    "\n",
    "\n",
    "    # get values\n",
    "    data_sheets = sheets[1 : 4]\n",
    "    wdata={}\n",
    "    for namesheet in data_sheets:\n",
    "        wdata[namesheet] = {} \n",
    "        data, time, header = pmng.get_values(wb[namesheet],start_row,start_column)\n",
    "        wdata[namesheet]['data'] = data\n",
    "        wdata[namesheet]['time'] = time\n",
    "        wdata[namesheet]['header'] = header\n",
    "\n",
    "    # labels are in:\n",
    "    L_sheets=sheets[4:]\n",
    "    print(L_sheets)\n",
    "\n",
    "    # get values\n",
    "    wlabels={}\n",
    "    for namesheet in L_sheets:\n",
    "        wlabels[namesheet] = pmng.get_label_values(wb[namesheet],int(L_start_row),int(L_start_column))\n",
    "\n",
    "\n",
    "    database[file] = {}\n",
    "    database[file]['data_sheets'] = wdata\n",
    "    database[file]['label_sheets'] = wlabels"
   ]
  },
  {
   "cell_type": "code",
   "execution_count": 23,
   "metadata": {
    "collapsed": false
   },
   "outputs": [
    {
     "data": {
      "text/plain": [
       "{'data': array([[  9113.,   9255.,   9127., ...,   8941.,   8843.,   8977.],\n",
       "        [  8904.,   9095.,   9008., ...,   8809.,   8721.,   8828.],\n",
       "        [  8844.,   9008.,   8912., ...,   8717.,   8677.,   8760.],\n",
       "        ..., \n",
       "        [ 75777.,  69301.,  85618., ...,   8928.,   8848.,   8906.],\n",
       "        [ 76773.,  70196.,  86706., ...,   8917.,   8807.,   8895.],\n",
       "        [ 77770.,  71237.,  87870., ...,   8931.,   8823.,   8920.]]),\n",
       " 'header': ['A1',\n",
       "  'A2',\n",
       "  'A3',\n",
       "  'A4',\n",
       "  'A5',\n",
       "  'A6',\n",
       "  'A7',\n",
       "  'A8',\n",
       "  'A9',\n",
       "  'A10',\n",
       "  'A11',\n",
       "  'A12',\n",
       "  'B1',\n",
       "  'B2',\n",
       "  'B3',\n",
       "  'B4',\n",
       "  'B5',\n",
       "  'B6',\n",
       "  'B7',\n",
       "  'B8',\n",
       "  'B9',\n",
       "  'B10',\n",
       "  'B11',\n",
       "  'B12',\n",
       "  'C1',\n",
       "  'C2',\n",
       "  'C3',\n",
       "  'C4',\n",
       "  'C5',\n",
       "  'C6',\n",
       "  'C7',\n",
       "  'C8',\n",
       "  'C9',\n",
       "  'C10',\n",
       "  'C11',\n",
       "  'C12',\n",
       "  'D1',\n",
       "  'D2',\n",
       "  'D3',\n",
       "  'D4',\n",
       "  'D5',\n",
       "  'D6',\n",
       "  'D7',\n",
       "  'D8',\n",
       "  'D9',\n",
       "  'D10',\n",
       "  'D11',\n",
       "  'D12',\n",
       "  'E1',\n",
       "  'E2',\n",
       "  'E3',\n",
       "  'E4',\n",
       "  'E5',\n",
       "  'E6',\n",
       "  'E7',\n",
       "  'E8',\n",
       "  'E9',\n",
       "  'E10',\n",
       "  'E11',\n",
       "  'E12',\n",
       "  'F1',\n",
       "  'F2',\n",
       "  'F3',\n",
       "  'F4',\n",
       "  'F5',\n",
       "  'F6',\n",
       "  'F7',\n",
       "  'F8',\n",
       "  'F9',\n",
       "  'F10',\n",
       "  'F11',\n",
       "  'F12',\n",
       "  'G1',\n",
       "  'G2',\n",
       "  'G3',\n",
       "  'G4',\n",
       "  'G5',\n",
       "  'G6',\n",
       "  'G7',\n",
       "  'G8',\n",
       "  'G9',\n",
       "  'G10',\n",
       "  'G11',\n",
       "  'G12',\n",
       "  'H1',\n",
       "  'H2',\n",
       "  'H3',\n",
       "  'H4',\n",
       "  'H5',\n",
       "  'H6',\n",
       "  'H7',\n",
       "  'H8',\n",
       "  'H9',\n",
       "  'H10',\n",
       "  'H11',\n",
       "  'H12'],\n",
       " 'time': array([  0.13694444,   0.30361111,   0.47027778,   0.63694444,\n",
       "          0.80361111,   0.97027778,   1.13694444,   1.30361111,\n",
       "          1.47027778,   1.63694444,   1.80361111,   1.97027778,\n",
       "          2.13694444,   2.30361111,   2.47027778,   2.63694444,\n",
       "          2.80361111,   2.97027778,   3.13694444,   3.30361111,\n",
       "          3.47027778,   3.63694444,   3.80361111,   3.97027778,\n",
       "          4.13694444,   4.30361111,   4.47027778,   4.63694444,\n",
       "          4.80361111,   4.97027778,   5.13694444,   5.30361111,\n",
       "          5.47027778,   5.63694444,   5.80361111,   5.97027778,\n",
       "          6.13694444,   6.30361111,   6.47027778,   6.63694444,\n",
       "          6.80361111,   6.97027778,   7.13694444,   7.30361111,\n",
       "          7.47027778,   7.63694444,   7.80361111,   7.97027778,\n",
       "          8.13694444,   8.30361111,   8.47027778,   8.63694444,\n",
       "          8.80361111,   8.97027778,   9.13694444,   9.30361111,\n",
       "          9.47027778,   9.63694444,   9.80361111,   9.97027778,\n",
       "         10.13694444,  10.30361111,  10.47027778,  10.63694444,\n",
       "         10.80361111,  10.97027778,  11.13694444,  11.30361111,\n",
       "         11.47027778,  11.63694444,  11.80361111,  11.97027778,\n",
       "         12.13694444,  12.30361111,  12.47027778,  12.63694444,\n",
       "         12.80361111,  12.97027778,  13.13694444,  13.30361111,\n",
       "         13.47027778,  13.63694444,  13.80361111,  13.97027778,\n",
       "         14.13694444,  14.30361111,  14.47027778,  14.63694444,\n",
       "         14.80361111,  14.97027778,  15.13694444,  15.30361111,\n",
       "         15.47027778,  15.63694444,  15.80361111,  15.97027778,\n",
       "         16.13694444,  16.30361111,  16.47027778,  16.63694444,\n",
       "         16.80361111,  16.97027778,  17.13694444,  17.30361111,\n",
       "         17.47027778,  17.63694444,  17.80361111,  17.97027778,\n",
       "         18.13694444,  18.30361111,  18.47027778,  18.63694444,\n",
       "         18.80361111,  18.97027778,  19.13694444,  19.30361111,\n",
       "         19.47027778,  19.63694444,  19.80361111,  19.97027778,\n",
       "         20.13694444,  20.30361111,  20.47027778,  20.63694444,\n",
       "         20.80361111,  20.97027778,  21.13694444,  21.30361111,\n",
       "         21.47027778,  21.63694444,  21.80361111,  21.97027778,\n",
       "         22.13694444,  22.30361111,  22.47027778,  22.63694444,\n",
       "         22.80361111,  22.97027778,  23.13694444,  23.30361111,\n",
       "         23.47027778,  23.63694444,  23.80361111,  23.97027778,  24.13694444])}"
      ]
     },
     "execution_count": 23,
     "metadata": {},
     "output_type": "execute_result"
    }
   ],
   "source": [
    "database[files[1]]['data_sheets']['CFP']"
   ]
  },
  {
   "cell_type": "code",
   "execution_count": 46,
   "metadata": {
    "collapsed": false
   },
   "outputs": [],
   "source": [
    "pmng.save_obj(database, 'rdatabase', 'all')"
   ]
  },
  {
   "cell_type": "code",
   "execution_count": null,
   "metadata": {
    "collapsed": true
   },
   "outputs": [],
   "source": []
  },
  {
   "cell_type": "code",
   "execution_count": null,
   "metadata": {
    "collapsed": true
   },
   "outputs": [],
   "source": []
  },
  {
   "cell_type": "code",
   "execution_count": null,
   "metadata": {
    "collapsed": true
   },
   "outputs": [],
   "source": []
  }
 ],
 "metadata": {
  "kernelspec": {
   "display_name": "Python 3",
   "language": "python",
   "name": "python3"
  },
  "language_info": {
   "codemirror_mode": {
    "name": "ipython",
    "version": 3
   },
   "file_extension": ".py",
   "mimetype": "text/x-python",
   "name": "python",
   "nbconvert_exporter": "python",
   "pygments_lexer": "ipython3",
   "version": "3.6.0"
  }
 },
 "nbformat": 4,
 "nbformat_minor": 2
}
